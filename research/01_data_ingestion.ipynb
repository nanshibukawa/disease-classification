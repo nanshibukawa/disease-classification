{
 "cells": [
  {
   "cell_type": "code",
   "execution_count": 34,
   "id": "cc32dd64",
   "metadata": {},
   "outputs": [],
   "source": [
    "import os\n"
   ]
  },
  {
   "cell_type": "code",
   "execution_count": 35,
   "id": "0fe0ba6e",
   "metadata": {},
   "outputs": [
    {
     "data": {
      "text/plain": [
       "'/home/nanshibukawa/Documents/mestrado'"
      ]
     },
     "execution_count": 35,
     "metadata": {},
     "output_type": "execute_result"
    }
   ],
   "source": [
    "%pwd"
   ]
  },
  {
   "cell_type": "code",
   "execution_count": 36,
   "id": "71a2b7dd",
   "metadata": {},
   "outputs": [],
   "source": [
    "os.chdir(\"../\")"
   ]
  },
  {
   "cell_type": "code",
   "execution_count": 37,
   "id": "e6653d63",
   "metadata": {},
   "outputs": [
    {
     "data": {
      "text/plain": [
       "'/home/nanshibukawa/Documents'"
      ]
     },
     "execution_count": 37,
     "metadata": {},
     "output_type": "execute_result"
    }
   ],
   "source": [
    "%pwd"
   ]
  },
  {
   "cell_type": "code",
   "execution_count": 38,
   "id": "a95bd303",
   "metadata": {},
   "outputs": [],
   "source": [
    "from dataclasses import dataclass\n",
    "from pathlib import Path\n",
    "\n",
    "@dataclass(frozen=True)\n",
    "class DataIngestionConfig:\n",
    "    root_dir: Path\n",
    "    source_URL: str\n",
    "    local_data_file: Path\n",
    "    unzip_dir: Path"
   ]
  },
  {
   "cell_type": "code",
   "execution_count": 39,
   "id": "81fb9eb2",
   "metadata": {},
   "outputs": [],
   "source": [
    "from cnnClassifier.constants.constants import *\n",
    "from cnnClassifier.utils.common import read_yaml, create_directories"
   ]
  },
  {
   "cell_type": "code",
   "execution_count": 40,
   "id": "18e3803d",
   "metadata": {},
   "outputs": [],
   "source": [
    "class ConfigurationManager:\n",
    "    def __init__(\n",
    "        self,\n",
    "        config_filepath = CONFIG_FILE_PATH,\n",
    "        params_filepath = PARAMS_FILE_PATH):\n",
    "\n",
    "        self.config = read_yaml(config_filepath)\n",
    "        self.params = read_yaml(params_filepath)\n",
    "\n",
    "        create_directories([self.config.artifacts_root])\n",
    "\n",
    "\n",
    "    \n",
    "    def get_data_ingestion_config(self) -> DataIngestionConfig:\n",
    "        config = self.config.data_ingestion\n",
    "\n",
    "        create_directories([config.root_dir])\n",
    "\n",
    "        data_ingestion_config = DataIngestionConfig(\n",
    "            root_dir=config.root_dir,\n",
    "            source_URL=config.source_URL,\n",
    "            local_data_file=config.local_data_file,\n",
    "            unzip_dir=config.unzip_dir \n",
    "        )\n",
    "\n",
    "        return data_ingestion_config\n",
    "      "
   ]
  },
  {
   "cell_type": "code",
   "execution_count": 41,
   "id": "66c5ce17",
   "metadata": {},
   "outputs": [],
   "source": [
    "import os\n",
    "import urllib.request as request\n",
    "import zipfile\n",
    "import gdown\n",
    "from cnnClassifier.logger import configure_logger\n",
    "from cnnClassifier.utils.common import get_size\n",
    "\n",
    "logger = configure_logger(__name__) \n",
    "\n"
   ]
  },
  {
   "cell_type": "code",
   "execution_count": 42,
   "id": "542731be",
   "metadata": {},
   "outputs": [
    {
     "name": "stdout",
     "output_type": "stream",
     "text": [
      "\u001b[32m2025-06-22 14:45:12\u001b[0m | \u001b[31m\u001b[1m\u001b[1mERROR   \u001b[0m\u001b[31m\u001b[1m\u001b[0m | \u001b[34m1964914562\u001b[0m:\u001b[33m<module>\u001b[0m:\u001b[36m1\u001b[0m | \u001b[31m\u001b[1mDownloading file from the internet...\u001b[0m\n"
     ]
    }
   ],
   "source": [
    "logger.error(\"Downloading file from the internet...\")"
   ]
  },
  {
   "cell_type": "code",
   "execution_count": 43,
   "id": "0ff173ef",
   "metadata": {},
   "outputs": [],
   "source": [
    "class DataIngestion:\n",
    "    def __init__(self, config: DataIngestionConfig):\n",
    "        self.config = config\n",
    "\n",
    "    def download_file(self)-> str:\n",
    "        '''\n",
    "        Fetch data from the url\n",
    "        '''\n",
    "        try:\n",
    "            dataset_url = self.config.source_URL\n",
    "            zip_download_dir = self.config.local_data_file\n",
    "            os.makedirs(\"artifacts/data_ingestion\", exist_ok=True)\n",
    "            logger.info(f\"Downloading data from {dataset_url} into file {zip_download_dir}\")\n",
    "\n",
    "            file_id = dataset_url.split(\"/\")[-2]\n",
    "            prefix = 'https://drive.google.com/uc?/export=download&id='\n",
    "            gdown.download(prefix+file_id, zip_download_dir)\n",
    "\n",
    "            logger.info(f\"Downloaded data from {dataset_url} into file {zip_download_dir}\")\n",
    "\n",
    "        except Exception as e:\n",
    "            logger.exception(e)\n",
    "            raise e\n",
    "        \n",
    "    def extract_zip_file(self):\n",
    "        \"\"\"\n",
    "        zip_file_path: str\n",
    "        Extracts the zip file into the data directory\n",
    "        Function return None\n",
    "        \"\"\"\n",
    "        unzip_path = self.config.unzip_dir\n",
    "        os.makedirs(unzip_path, exist_ok=True\n",
    "                    )\n",
    "        with zipfile.ZipFile(self.config.local_data_file, 'r') as zip_ref:\n",
    "            zip_ref.extractall(unzip_path)"
   ]
  },
  {
   "cell_type": "code",
   "execution_count": null,
   "id": "4e235039",
   "metadata": {},
   "outputs": [
    {
     "name": "stdout",
     "output_type": "stream",
     "text": [
      "\u001b[32m2025-06-22 14:45:12\u001b[0m | \u001b[31m\u001b[1m\u001b[1mERROR   \u001b[0m\u001b[31m\u001b[1m\u001b[0m | \u001b[34m1023869400\u001b[0m:\u001b[33m<module>\u001b[0m:\u001b[36m8\u001b[0m | \u001b[31m\u001b[1mmodule 'cnnClassifier.logger' has no attribute 'error'\u001b[0m\n",
      "\u001b[33m\u001b[1mTraceback (most recent call last):\u001b[0m\n",
      "\n",
      "  File \"<frozen runpy>\", line 198, in _run_module_as_main\n",
      "  File \"<frozen runpy>\", line 88, in _run_code\n",
      "  File \"/home/nanshibukawa/Documents/mestrado/disease-classification/.venv/lib/python3.11/site-packages/ipykernel_launcher.py\", line 18, in <module>\n",
      "    app.launch_new_instance()\n",
      "    │   └ <bound method Application.launch_instance of <class 'ipykernel.kernelapp.IPKernelApp'>>\n",
      "    └ <module 'ipykernel.kernelapp' from '/home/nanshibukawa/Documents/mestrado/disease-classification/.venv/lib/python3.11/site-pa...\n",
      "  File \"/home/nanshibukawa/Documents/mestrado/disease-classification/.venv/lib/python3.11/site-packages/traitlets/config/application.py\", line 1075, in launch_instance\n",
      "    app.start()\n",
      "    │   └ <function IPKernelApp.start at 0x783a0f51b100>\n",
      "    └ <ipykernel.kernelapp.IPKernelApp object at 0x783a114dbdd0>\n",
      "  File \"/home/nanshibukawa/Documents/mestrado/disease-classification/.venv/lib/python3.11/site-packages/ipykernel/kernelapp.py\", line 739, in start\n",
      "    self.io_loop.start()\n",
      "    │    │       └ <function BaseAsyncIOLoop.start at 0x783a0f51bec0>\n",
      "    │    └ <tornado.platform.asyncio.AsyncIOMainLoop object at 0x783a0f547c90>\n",
      "    └ <ipykernel.kernelapp.IPKernelApp object at 0x783a114dbdd0>\n",
      "  File \"/home/nanshibukawa/Documents/mestrado/disease-classification/.venv/lib/python3.11/site-packages/tornado/platform/asyncio.py\", line 211, in start\n",
      "    self.asyncio_loop.run_forever()\n",
      "    │    │            └ <function BaseEventLoop.run_forever at 0x783a10b611c0>\n",
      "    │    └ <_UnixSelectorEventLoop running=True closed=False debug=False>\n",
      "    └ <tornado.platform.asyncio.AsyncIOMainLoop object at 0x783a0f547c90>\n",
      "  File \"/home/nanshibukawa/.local/share/uv/python/cpython-3.11.9-linux-x86_64-gnu/lib/python3.11/asyncio/base_events.py\", line 608, in run_forever\n",
      "    self._run_once()\n",
      "    │    └ <function BaseEventLoop._run_once at 0x783a10b62fc0>\n",
      "    └ <_UnixSelectorEventLoop running=True closed=False debug=False>\n",
      "  File \"/home/nanshibukawa/.local/share/uv/python/cpython-3.11.9-linux-x86_64-gnu/lib/python3.11/asyncio/base_events.py\", line 1936, in _run_once\n",
      "    handle._run()\n",
      "    │      └ <function Handle._run at 0x783a10ce6f20>\n",
      "    └ <Handle Task.task_wakeup(<Future finis...4B)>, ...],))>)>\n",
      "  File \"/home/nanshibukawa/.local/share/uv/python/cpython-3.11.9-linux-x86_64-gnu/lib/python3.11/asyncio/events.py\", line 84, in _run\n",
      "    self._context.run(self._callback, *self._args)\n",
      "    │    │            │    │           │    └ <member '_args' of 'Handle' objects>\n",
      "    │    │            │    │           └ <Handle Task.task_wakeup(<Future finis...4B)>, ...],))>)>\n",
      "    │    │            │    └ <member '_callback' of 'Handle' objects>\n",
      "    │    │            └ <Handle Task.task_wakeup(<Future finis...4B)>, ...],))>)>\n",
      "    │    └ <member '_context' of 'Handle' objects>\n",
      "    └ <Handle Task.task_wakeup(<Future finis...4B)>, ...],))>)>\n",
      "  File \"/home/nanshibukawa/Documents/mestrado/disease-classification/.venv/lib/python3.11/site-packages/ipykernel/kernelbase.py\", line 545, in dispatch_queue\n",
      "    await self.process_one()\n",
      "          │    └ <function Kernel.process_one at 0x783a0f6d4a40>\n",
      "          └ <ipykernel.ipkernel.IPythonKernel object at 0x783a0f55ced0>\n",
      "  File \"/home/nanshibukawa/Documents/mestrado/disease-classification/.venv/lib/python3.11/site-packages/ipykernel/kernelbase.py\", line 534, in process_one\n",
      "    await dispatch(*args)\n",
      "          │         └ ([<zmq.Frame(b'e83cef1c-805'...36B)>, <zmq.Frame(b'<IDS|MSG>')>, <zmq.Frame(b'3e0af076cd98'...64B)>, <zmq.Frame(b'{\"date\":\"20...\n",
      "          └ <bound method Kernel.dispatch_shell of <ipykernel.ipkernel.IPythonKernel object at 0x783a0f55ced0>>\n",
      "  File \"/home/nanshibukawa/Documents/mestrado/disease-classification/.venv/lib/python3.11/site-packages/ipykernel/kernelbase.py\", line 437, in dispatch_shell\n",
      "    await result\n",
      "          └ <coroutine object IPythonKernel.execute_request at 0x7839e01d3440>\n",
      "  File \"/home/nanshibukawa/Documents/mestrado/disease-classification/.venv/lib/python3.11/site-packages/ipykernel/ipkernel.py\", line 362, in execute_request\n",
      "    await super().execute_request(stream, ident, parent)\n",
      "                                  │       │      └ {'header': {'date': datetime.datetime(2025, 6, 22, 17, 45, 12, 943000, tzinfo=tzutc()), 'msg_id': '2eb8904e-8506-4d23-9401-29...\n",
      "                                  │       └ [b'e83cef1c-8051-43e8-8d20-bbfd0ea095e7']\n",
      "                                  └ <zmq.eventloop.zmqstream.ZMQStream object at 0x783a0f544210>\n",
      "  File \"/home/nanshibukawa/Documents/mestrado/disease-classification/.venv/lib/python3.11/site-packages/ipykernel/kernelbase.py\", line 778, in execute_request\n",
      "    reply_content = await reply_content\n",
      "                          └ <coroutine object IPythonKernel.do_execute at 0x7839e04a2750>\n",
      "  File \"/home/nanshibukawa/Documents/mestrado/disease-classification/.venv/lib/python3.11/site-packages/ipykernel/ipkernel.py\", line 449, in do_execute\n",
      "    res = shell.run_cell(\n",
      "          │     └ <function ZMQInteractiveShell.run_cell at 0x783a0f5182c0>\n",
      "          └ <ipykernel.zmqshell.ZMQInteractiveShell object at 0x7839fe7cf8d0>\n",
      "  File \"/home/nanshibukawa/Documents/mestrado/disease-classification/.venv/lib/python3.11/site-packages/ipykernel/zmqshell.py\", line 549, in run_cell\n",
      "    return super().run_cell(*args, **kwargs)\n",
      "                             │       └ {'store_history': True, 'silent': False, 'cell_id': 'vscode-notebook-cell:/home/nanshibukawa/Documents/mestrado/disease-class...\n",
      "                             └ ('try:\\n    config = ConfigurationManager()\\n    data_ingestion_config = config.get_data_ingestion_config()\\n    data_ingesti...\n",
      "  File \"/home/nanshibukawa/Documents/mestrado/disease-classification/.venv/lib/python3.11/site-packages/IPython/core/interactiveshell.py\", line 3100, in run_cell\n",
      "    result = self._run_cell(\n",
      "             │    └ <function InteractiveShell._run_cell at 0x783a100e8540>\n",
      "             └ <ipykernel.zmqshell.ZMQInteractiveShell object at 0x7839fe7cf8d0>\n",
      "  File \"/home/nanshibukawa/Documents/mestrado/disease-classification/.venv/lib/python3.11/site-packages/IPython/core/interactiveshell.py\", line 3155, in _run_cell\n",
      "    result = runner(coro)\n",
      "             │      └ <coroutine object InteractiveShell.run_cell_async at 0x783a0c0d3e00>\n",
      "             └ <function _pseudo_sync_runner at 0x783a100bb560>\n",
      "  File \"/home/nanshibukawa/Documents/mestrado/disease-classification/.venv/lib/python3.11/site-packages/IPython/core/async_helpers.py\", line 128, in _pseudo_sync_runner\n",
      "    coro.send(None)\n",
      "    │    └ <method 'send' of 'coroutine' objects>\n",
      "    └ <coroutine object InteractiveShell.run_cell_async at 0x783a0c0d3e00>\n",
      "  File \"/home/nanshibukawa/Documents/mestrado/disease-classification/.venv/lib/python3.11/site-packages/IPython/core/interactiveshell.py\", line 3367, in run_cell_async\n",
      "    has_raised = await self.run_ast_nodes(code_ast.body, cell_name,\n",
      "                       │    │             │        │     └ '/tmp/ipykernel_5931/1023869400.py'\n",
      "                       │    │             │        └ [<ast.Try object at 0x7839e03ad2a0>]\n",
      "                       │    │             └ <ast.Module object at 0x7839e03ad960>\n",
      "                       │    └ <function InteractiveShell.run_ast_nodes at 0x783a100e8900>\n",
      "                       └ <ipykernel.zmqshell.ZMQInteractiveShell object at 0x7839fe7cf8d0>\n",
      "  File \"/home/nanshibukawa/Documents/mestrado/disease-classification/.venv/lib/python3.11/site-packages/IPython/core/interactiveshell.py\", line 3612, in run_ast_nodes\n",
      "    if await self.run_code(code, result, async_=asy):\n",
      "             │    │        │     │              └ False\n",
      "             │    │        │     └ <ExecutionResult object at 7839fd1d9990, execution_count=44 error_before_exec=None error_in_exec=None info=<ExecutionInfo obj...\n",
      "             │    │        └ <code object <module> at 0x7839e048dce0, file \"/tmp/ipykernel_5931/1023869400.py\", line 1>\n",
      "             │    └ <function InteractiveShell.run_code at 0x783a100e89a0>\n",
      "             └ <ipykernel.zmqshell.ZMQInteractiveShell object at 0x7839fe7cf8d0>\n",
      "  File \"/home/nanshibukawa/Documents/mestrado/disease-classification/.venv/lib/python3.11/site-packages/IPython/core/interactiveshell.py\", line 3672, in run_code\n",
      "    exec(code_obj, self.user_global_ns, self.user_ns)\n",
      "         │         │    │               │    └ <property object at 0x783a100d2110>\n",
      "         │         │    │               └ <ipykernel.zmqshell.ZMQInteractiveShell object at 0x7839fe7cf8d0>\n",
      "         │         │    └ <property object at 0x783a100d21b0>\n",
      "         │         └ <ipykernel.zmqshell.ZMQInteractiveShell object at 0x7839fe7cf8d0>\n",
      "         └ <code object <module> at 0x7839e048dce0, file \"/tmp/ipykernel_5931/1023869400.py\", line 1>\n",
      "\n",
      "> File \"\u001b[32m/tmp/ipykernel_5931/\u001b[0m\u001b[32m\u001b[1m1023869400.py\u001b[0m\", line \u001b[33m2\u001b[0m, in \u001b[35m<module>\u001b[0m\n",
      "    \u001b[1mconfig\u001b[0m \u001b[35m\u001b[1m=\u001b[0m \u001b[1mConfigurationManager\u001b[0m\u001b[1m(\u001b[0m\u001b[1m)\u001b[0m\n",
      "    \u001b[36m         └ \u001b[0m\u001b[36m\u001b[1m<class '__main__.ConfigurationManager'>\u001b[0m\n",
      "\n",
      "  File \"\u001b[32m/tmp/ipykernel_5931/\u001b[0m\u001b[32m\u001b[1m221262974.py\u001b[0m\", line \u001b[33m7\u001b[0m, in \u001b[35m__init__\u001b[0m\n",
      "    \u001b[1mself\u001b[0m\u001b[35m\u001b[1m.\u001b[0m\u001b[1mconfig\u001b[0m \u001b[35m\u001b[1m=\u001b[0m \u001b[1mread_yaml\u001b[0m\u001b[1m(\u001b[0m\u001b[1mconfig_filepath\u001b[0m\u001b[1m)\u001b[0m\n",
      "    \u001b[36m│             │         └ \u001b[0m\u001b[36m\u001b[1mPosixPath('config/config.yaml')\u001b[0m\n",
      "    \u001b[36m│             └ \u001b[0m\u001b[36m\u001b[1m<function read_yaml at 0x7839fd50eac0>\u001b[0m\n",
      "    \u001b[36m└ \u001b[0m\u001b[36m\u001b[1m<__main__.ConfigurationManager object at 0x7839fd1d7bd0>\u001b[0m\n",
      "\n",
      "  File \"/home/nanshibukawa/Documents/mestrado/disease-classification/.venv/lib/python3.11/site-packages/ensure/main.py\", line 849, in __call__\n",
      "    return_val = self.f(*args, **kwargs)\n",
      "                 │    │  │       └ {}\n",
      "                 │    │  └ (PosixPath('config/config.yaml'),)\n",
      "                 │    └ <function read_yaml at 0x7839fd50eac0>\n",
      "                 └ <function read_yaml at 0x7839fd50eac0>\n",
      "\n",
      "  File \"\u001b[32m/home/nanshibukawa/Documents/mestrado/disease-classification/src/cnnClassifier/utils/\u001b[0m\u001b[32m\u001b[1mcommon.py\u001b[0m\", line \u001b[33m30\u001b[0m, in \u001b[35mread_yaml\u001b[0m\n",
      "    \u001b[1mlogger\u001b[0m\u001b[35m\u001b[1m.\u001b[0m\u001b[1merror\u001b[0m\u001b[1m(\u001b[0m\u001b[36mf\"YAML file not found at {path_to_yaml}\"\u001b[0m\u001b[1m)\u001b[0m\n",
      "    \u001b[36m└ \u001b[0m\u001b[36m\u001b[1m<module 'cnnClassifier.logger' from '/home/nanshibukawa/Documents/mestrado/disease-classification/src/cnnClassifier/logger.py'>\u001b[0m\n",
      "\n",
      "\u001b[31m\u001b[1mAttributeError\u001b[0m:\u001b[1m module 'cnnClassifier.logger' has no attribute 'error'\u001b[0m\n"
     ]
    },
    {
     "ename": "AttributeError",
     "evalue": "module 'cnnClassifier.logger' has no attribute 'error'",
     "output_type": "error",
     "traceback": [
      "\u001b[31m---------------------------------------------------------------------------\u001b[39m",
      "\u001b[31mAttributeError\u001b[39m                            Traceback (most recent call last)",
      "\u001b[36mCell\u001b[39m\u001b[36m \u001b[39m\u001b[32mIn[44]\u001b[39m\u001b[32m, line 9\u001b[39m\n\u001b[32m      7\u001b[39m \u001b[38;5;28;01mexcept\u001b[39;00m \u001b[38;5;167;01mException\u001b[39;00m \u001b[38;5;28;01mas\u001b[39;00m e:\n\u001b[32m      8\u001b[39m     logger.exception(e)\n\u001b[32m----> \u001b[39m\u001b[32m9\u001b[39m     \u001b[38;5;28;01mraise\u001b[39;00m e\n",
      "\u001b[36mCell\u001b[39m\u001b[36m \u001b[39m\u001b[32mIn[44]\u001b[39m\u001b[32m, line 2\u001b[39m\n\u001b[32m      1\u001b[39m \u001b[38;5;28;01mtry\u001b[39;00m:\n\u001b[32m----> \u001b[39m\u001b[32m2\u001b[39m     config = \u001b[43mConfigurationManager\u001b[49m\u001b[43m(\u001b[49m\u001b[43m)\u001b[49m\n\u001b[32m      3\u001b[39m     data_ingestion_config = config.get_data_ingestion_config()\n\u001b[32m      4\u001b[39m     data_ingestion = DataIngestion(config=data_ingestion_config)\n",
      "\u001b[36mCell\u001b[39m\u001b[36m \u001b[39m\u001b[32mIn[40]\u001b[39m\u001b[32m, line 7\u001b[39m, in \u001b[36mConfigurationManager.__init__\u001b[39m\u001b[34m(self, config_filepath, params_filepath)\u001b[39m\n\u001b[32m      2\u001b[39m \u001b[38;5;28;01mdef\u001b[39;00m\u001b[38;5;250m \u001b[39m\u001b[34m__init__\u001b[39m(\n\u001b[32m      3\u001b[39m     \u001b[38;5;28mself\u001b[39m,\n\u001b[32m      4\u001b[39m     config_filepath = CONFIG_FILE_PATH,\n\u001b[32m      5\u001b[39m     params_filepath = PARAMS_FILE_PATH):\n\u001b[32m----> \u001b[39m\u001b[32m7\u001b[39m     \u001b[38;5;28mself\u001b[39m.config = \u001b[43mread_yaml\u001b[49m\u001b[43m(\u001b[49m\u001b[43mconfig_filepath\u001b[49m\u001b[43m)\u001b[49m\n\u001b[32m      8\u001b[39m     \u001b[38;5;28mself\u001b[39m.params = read_yaml(params_filepath)\n\u001b[32m     10\u001b[39m     create_directories([\u001b[38;5;28mself\u001b[39m.config.artifacts_root])\n",
      "\u001b[36mFile \u001b[39m\u001b[32m~/Documents/mestrado/disease-classification/.venv/lib/python3.11/site-packages/ensure/main.py:849\u001b[39m, in \u001b[36mWrappedFunctionReturn.__call__\u001b[39m\u001b[34m(self, *args, **kwargs)\u001b[39m\n\u001b[32m    841\u001b[39m         msg = (\n\u001b[32m    842\u001b[39m             \u001b[33m\"\u001b[39m\u001b[33mArgument \u001b[39m\u001b[38;5;132;01m{arg}\u001b[39;00m\u001b[33m of type \u001b[39m\u001b[38;5;132;01m{valt}\u001b[39;00m\u001b[33m to \u001b[39m\u001b[38;5;132;01m{f}\u001b[39;00m\u001b[33m \u001b[39m\u001b[33m\"\u001b[39m\n\u001b[32m    843\u001b[39m             \u001b[33m\"\u001b[39m\u001b[33mdoes not match annotation type \u001b[39m\u001b[38;5;132;01m{t}\u001b[39;00m\u001b[33m\"\u001b[39m\n\u001b[32m    844\u001b[39m         )\n\u001b[32m    845\u001b[39m         \u001b[38;5;28;01mraise\u001b[39;00m EnsureError(msg.format(\n\u001b[32m    846\u001b[39m             arg=arg, f=\u001b[38;5;28mself\u001b[39m.f, t=templ, valt=\u001b[38;5;28mtype\u001b[39m(value)\n\u001b[32m    847\u001b[39m         ))\n\u001b[32m--> \u001b[39m\u001b[32m849\u001b[39m return_val = \u001b[38;5;28;43mself\u001b[39;49m\u001b[43m.\u001b[49m\u001b[43mf\u001b[49m\u001b[43m(\u001b[49m\u001b[43m*\u001b[49m\u001b[43margs\u001b[49m\u001b[43m,\u001b[49m\u001b[43m \u001b[49m\u001b[43m*\u001b[49m\u001b[43m*\u001b[49m\u001b[43mkwargs\u001b[49m\u001b[43m)\u001b[49m\n\u001b[32m    850\u001b[39m \u001b[38;5;28;01mif\u001b[39;00m \u001b[38;5;129;01mnot\u001b[39;00m \u001b[38;5;28misinstance\u001b[39m(return_val, \u001b[38;5;28mself\u001b[39m.return_templ):\n\u001b[32m    851\u001b[39m     msg = (\n\u001b[32m    852\u001b[39m         \u001b[33m\"\u001b[39m\u001b[33mReturn value of \u001b[39m\u001b[38;5;132;01m{f}\u001b[39;00m\u001b[33m of type \u001b[39m\u001b[38;5;132;01m{valt}\u001b[39;00m\u001b[33m \u001b[39m\u001b[33m\"\u001b[39m\n\u001b[32m    853\u001b[39m         \u001b[33m\"\u001b[39m\u001b[33mdoes not match annotation type \u001b[39m\u001b[38;5;132;01m{t}\u001b[39;00m\u001b[33m\"\u001b[39m\n\u001b[32m    854\u001b[39m     )\n",
      "\u001b[36mFile \u001b[39m\u001b[32m~/Documents/mestrado/disease-classification/src/cnnClassifier/utils/common.py:30\u001b[39m, in \u001b[36mread_yaml\u001b[39m\u001b[34m(path_to_yaml)\u001b[39m\n\u001b[32m     16\u001b[39m \u001b[38;5;250m\u001b[39m\u001b[33;03m\"\"\"\u001b[39;00m\n\u001b[32m     17\u001b[39m \u001b[33;03mReads a YAML file and returns its content as a ConfigBox.\u001b[39;00m\n\u001b[32m     18\u001b[39m \u001b[33;03mArgs:\u001b[39;00m\n\u001b[32m   (...)\u001b[39m\u001b[32m     27\u001b[39m \u001b[33;03m    If the file cannot be read, returns an empty ConfigBox.\u001b[39;00m\n\u001b[32m     28\u001b[39m \u001b[33;03m\"\"\"\u001b[39;00m\n\u001b[32m     29\u001b[39m \u001b[38;5;28;01mif\u001b[39;00m \u001b[38;5;129;01mnot\u001b[39;00m path_to_yaml.exists():\n\u001b[32m---> \u001b[39m\u001b[32m30\u001b[39m     \u001b[43mlogger\u001b[49m\u001b[43m.\u001b[49m\u001b[43merror\u001b[49m(\u001b[33mf\u001b[39m\u001b[33m\"\u001b[39m\u001b[33mYAML file not found at \u001b[39m\u001b[38;5;132;01m{\u001b[39;00mpath_to_yaml\u001b[38;5;132;01m}\u001b[39;00m\u001b[33m\"\u001b[39m)\n\u001b[32m     31\u001b[39m     \u001b[38;5;28;01mreturn\u001b[39;00m ConfigBox({})\n\u001b[32m     32\u001b[39m \u001b[38;5;28;01mtry\u001b[39;00m:\n",
      "\u001b[31mAttributeError\u001b[39m: module 'cnnClassifier.logger' has no attribute 'error'"
     ]
    }
   ],
   "source": [
    "try:\n",
    "    config = ConfigurationManager()\n",
    "    data_ingestion_config = config.get_data_ingestion_config()\n",
    "    data_ingestion = DataIngestion(config=data_ingestion_config)\n",
    "    data_ingestion.download_file()\n",
    "    data_ingestion.extract_zip_file()\n",
    "except Exception as e:\n",
    "    logger.exception(e)\n"
   ]
  }
 ],
 "metadata": {
  "kernelspec": {
   "display_name": "disease-classification",
   "language": "python",
   "name": "python3"
  },
  "language_info": {
   "codemirror_mode": {
    "name": "ipython",
    "version": 3
   },
   "file_extension": ".py",
   "mimetype": "text/x-python",
   "name": "python",
   "nbconvert_exporter": "python",
   "pygments_lexer": "ipython3",
   "version": "3.11.9"
  }
 },
 "nbformat": 4,
 "nbformat_minor": 5
}
