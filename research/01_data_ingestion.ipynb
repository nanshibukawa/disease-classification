{
 "cells": [
  {
   "cell_type": "code",
   "execution_count": 1,
   "id": "cc32dd64",
   "metadata": {},
   "outputs": [],
   "source": [
    "import os\n"
   ]
  },
  {
   "cell_type": "code",
   "execution_count": 2,
   "id": "0fe0ba6e",
   "metadata": {},
   "outputs": [
    {
     "data": {
      "text/plain": [
       "'/home/nanshibukawa/Documents/mestrado/disease-classification/research'"
      ]
     },
     "execution_count": 2,
     "metadata": {},
     "output_type": "execute_result"
    }
   ],
   "source": [
    "%pwd"
   ]
  },
  {
   "cell_type": "code",
   "execution_count": 3,
   "id": "71a2b7dd",
   "metadata": {},
   "outputs": [],
   "source": [
    "os.chdir(\"../\")"
   ]
  },
  {
   "cell_type": "code",
   "execution_count": 4,
   "id": "e6653d63",
   "metadata": {},
   "outputs": [
    {
     "data": {
      "text/plain": [
       "'/home/nanshibukawa/Documents/mestrado/disease-classification'"
      ]
     },
     "execution_count": 4,
     "metadata": {},
     "output_type": "execute_result"
    }
   ],
   "source": [
    "%pwd"
   ]
  },
  {
   "cell_type": "code",
   "execution_count": 5,
   "id": "a95bd303",
   "metadata": {},
   "outputs": [],
   "source": [
    "from dataclasses import dataclass\n",
    "from pathlib import Path\n",
    "\n",
    "@dataclass(frozen=True)\n",
    "class DataIngestionConfig:\n",
    "    root_dir: Path\n",
    "    source_URL: str\n",
    "    local_data_file: Path\n",
    "    unzip_dir: Path"
   ]
  },
  {
   "cell_type": "code",
   "execution_count": 6,
   "id": "81fb9eb2",
   "metadata": {},
   "outputs": [],
   "source": [
    "from cnnClassifier.constants.constants import *\n",
    "from cnnClassifier.utils.common import read_yaml, create_directories"
   ]
  },
  {
   "cell_type": "code",
   "execution_count": 7,
   "id": "18e3803d",
   "metadata": {},
   "outputs": [],
   "source": [
    "class ConfigurationManager:\n",
    "    def __init__(\n",
    "        self,\n",
    "        config_filepath = CONFIG_FILE_PATH,\n",
    "        params_filepath = PARAMS_FILE_PATH):\n",
    "\n",
    "        self.config = read_yaml(config_filepath)\n",
    "        self.params = read_yaml(params_filepath)\n",
    "\n",
    "        create_directories([self.config.artifacts_root])\n",
    "\n",
    "\n",
    "    \n",
    "    def get_data_ingestion_config(self) -> DataIngestionConfig:\n",
    "        config = self.config.data_ingestion\n",
    "\n",
    "        create_directories([config.root_dir])\n",
    "\n",
    "        data_ingestion_config = DataIngestionConfig(\n",
    "            root_dir=config.root_dir,\n",
    "            source_URL=config.source_URL,\n",
    "            local_data_file=config.local_data_file,\n",
    "            unzip_dir=config.unzip_dir \n",
    "        )\n",
    "\n",
    "        return data_ingestion_config\n",
    "      "
   ]
  },
  {
   "cell_type": "code",
   "execution_count": 8,
   "id": "66c5ce17",
   "metadata": {},
   "outputs": [],
   "source": [
    "import os\n",
    "import urllib.request as request\n",
    "import zipfile\n",
    "import gdown\n",
    "from cnnClassifier.logger import configure_logger\n",
    "from cnnClassifier.utils.common import get_size\n",
    "\n",
    "logger = configure_logger(logger_name =__name__)\n",
    "\n"
   ]
  },
  {
   "cell_type": "code",
   "execution_count": 9,
   "id": "542731be",
   "metadata": {},
   "outputs": [
    {
     "name": "stdout",
     "output_type": "stream",
     "text": [
      "\u001b[32m2025-06-23 20:51:14\u001b[0m | \u001b[31m\u001b[1m\u001b[1mERROR   \u001b[0m\u001b[31m\u001b[1m\u001b[0m | \u001b[34m__main__\u001b[0m:\u001b[33m<module>\u001b[0m:\u001b[36m1\u001b[0m | \u001b[31m\u001b[1mDownloading file from the internet...\u001b[0m\n"
     ]
    }
   ],
   "source": [
    "logger.error(\"Downloading file from the internet...\")"
   ]
  },
  {
   "cell_type": "code",
   "execution_count": 10,
   "id": "0ff173ef",
   "metadata": {},
   "outputs": [],
   "source": [
    "class DataIngestion:\n",
    "    def __init__(self, config: DataIngestionConfig):\n",
    "        self.config = config\n",
    "\n",
    "    def download_file(self)-> str:\n",
    "        '''\n",
    "        Fetch data from the url\n",
    "        '''\n",
    "        try:\n",
    "            dataset_url = self.config.source_URL\n",
    "            zip_download_dir = self.config.local_data_file\n",
    "            os.makedirs(\"artifacts/data_ingestion\", exist_ok=True)\n",
    "            logger.info(f\"Downloading data from {dataset_url} into file {zip_download_dir}\")\n",
    "\n",
    "            file_id = dataset_url.split(\"/\")[-2]\n",
    "            prefix = 'https://drive.google.com/uc?/export=download&id='\n",
    "            gdown.download(prefix+file_id, zip_download_dir)\n",
    "\n",
    "            logger.info(f\"Downloaded data from {dataset_url} into file {zip_download_dir}\")\n",
    "\n",
    "        except Exception as e:\n",
    "            logger.exception(e)\n",
    "            raise e\n",
    "        \n",
    "    def extract_zip_file(self):\n",
    "        \"\"\"\n",
    "        zip_file_path: str\n",
    "        Extracts the zip file into the data directory\n",
    "        Function return None\n",
    "        \"\"\"\n",
    "        unzip_path = self.config.unzip_dir\n",
    "        os.makedirs(unzip_path, exist_ok=True\n",
    "                    )\n",
    "        with zipfile.ZipFile(self.config.local_data_file, 'r') as zip_ref:\n",
    "            zip_ref.extractall(unzip_path)"
   ]
  },
  {
   "cell_type": "code",
   "execution_count": 11,
   "id": "4e235039",
   "metadata": {},
   "outputs": [
    {
     "name": "stdout",
     "output_type": "stream",
     "text": [
      "\u001b[32m2025-06-23 20:51:14\u001b[0m | \u001b[1m\u001b[1mINFO    \u001b[0m\u001b[1m\u001b[0m | \u001b[34mcnnClassifier.utils.common\u001b[0m:\u001b[33mread_yaml\u001b[0m:\u001b[36m35\u001b[0m | \u001b[1mYAML file read successfully from config/config.yaml\u001b[0m\n",
      "\u001b[32m2025-06-23 20:51:14\u001b[0m | \u001b[1m\u001b[1mINFO    \u001b[0m\u001b[1m\u001b[0m | \u001b[34mcnnClassifier.utils.common\u001b[0m:\u001b[33mread_yaml\u001b[0m:\u001b[36m47\u001b[0m | \u001b[1mYAML file content: {'artifacts_root': 'artifacts', 'data_ingestion': {'root_dir': 'artifacts/data_ingestion', 'source_URL': 'https://drive.google.com/file/d/1oT2VFbMnAScIhUcPpP1q0zjcWZtlSSv4/view?usp=sharing', 'source_URL_id': '1oT2VFbMnAScIhUcPpP1q0zjcWZtlSSv4', 'local_data_file': 'artifacts/data_ingestion/data.zip', 'unzip_dir': 'artifacts/data_ingestion'}}\u001b[0m\n",
      "\u001b[32m2025-06-23 20:51:14\u001b[0m | \u001b[1m\u001b[1mINFO    \u001b[0m\u001b[1m\u001b[0m | \u001b[34mcnnClassifier.utils.common\u001b[0m:\u001b[33mread_yaml\u001b[0m:\u001b[36m35\u001b[0m | \u001b[1mYAML file read successfully from params.yaml\u001b[0m\n",
      "\u001b[32m2025-06-23 20:51:14\u001b[0m | \u001b[1m\u001b[1mINFO    \u001b[0m\u001b[1m\u001b[0m | \u001b[34mcnnClassifier.utils.common\u001b[0m:\u001b[33mread_yaml\u001b[0m:\u001b[36m47\u001b[0m | \u001b[1mYAML file content: {'key': 'value'}\u001b[0m\n",
      "\u001b[32m2025-06-23 20:51:14\u001b[0m | \u001b[1m\u001b[1mINFO    \u001b[0m\u001b[1m\u001b[0m | \u001b[34mcnnClassifier.utils.common\u001b[0m:\u001b[33mcreate_directories\u001b[0m:\u001b[36m68\u001b[0m | \u001b[1mCreated directory: artifacts\u001b[0m\n",
      "\u001b[32m2025-06-23 20:51:14\u001b[0m | \u001b[1m\u001b[1mINFO    \u001b[0m\u001b[1m\u001b[0m | \u001b[34mcnnClassifier.utils.common\u001b[0m:\u001b[33mcreate_directories\u001b[0m:\u001b[36m68\u001b[0m | \u001b[1mCreated directory: artifacts/data_ingestion\u001b[0m\n",
      "\u001b[32m2025-06-23 20:51:14\u001b[0m | \u001b[1m\u001b[1mINFO    \u001b[0m\u001b[1m\u001b[0m | \u001b[34m__main__\u001b[0m:\u001b[33mdownload_file\u001b[0m:\u001b[36m13\u001b[0m | \u001b[1mDownloading data from https://drive.google.com/file/d/1oT2VFbMnAScIhUcPpP1q0zjcWZtlSSv4/view?usp=sharing into file artifacts/data_ingestion/data.zip\u001b[0m\n"
     ]
    },
    {
     "name": "stderr",
     "output_type": "stream",
     "text": [
      "Downloading...\n",
      "From (original): https://drive.google.com/uc?/export=download&id=1oT2VFbMnAScIhUcPpP1q0zjcWZtlSSv4\n",
      "From (redirected): https://drive.google.com/uc?%2Fexport=download&id=1oT2VFbMnAScIhUcPpP1q0zjcWZtlSSv4&confirm=t&uuid=0ba8aeb3-d66b-4b90-a8c4-29560a0b1988\n",
      "To: /home/nanshibukawa/Documents/mestrado/disease-classification/artifacts/data_ingestion/data.zip\n",
      "100%|██████████| 1.63G/1.63G [03:27<00:00, 7.86MB/s]"
     ]
    },
    {
     "name": "stdout",
     "output_type": "stream",
     "text": [
      "\u001b[32m2025-06-23 20:54:44\u001b[0m | \u001b[1m\u001b[1mINFO    \u001b[0m\u001b[1m\u001b[0m | \u001b[34m__main__\u001b[0m:\u001b[33mdownload_file\u001b[0m:\u001b[36m19\u001b[0m | \u001b[1mDownloaded data from https://drive.google.com/file/d/1oT2VFbMnAScIhUcPpP1q0zjcWZtlSSv4/view?usp=sharing into file artifacts/data_ingestion/data.zip\u001b[0m\n"
     ]
    },
    {
     "name": "stderr",
     "output_type": "stream",
     "text": [
      "\n"
     ]
    }
   ],
   "source": [
    "try:\n",
    "    config = ConfigurationManager()\n",
    "    data_ingestion_config = config.get_data_ingestion_config()\n",
    "    data_ingestion = DataIngestion(config=data_ingestion_config)\n",
    "    data_ingestion.download_file()\n",
    "    data_ingestion.extract_zip_file()\n",
    "except Exception as e:\n",
    "    logger.exception(e)\n"
   ]
  }
 ],
 "metadata": {
  "kernelspec": {
   "display_name": "disease-classification",
   "language": "python",
   "name": "python3"
  },
  "language_info": {
   "codemirror_mode": {
    "name": "ipython",
    "version": 3
   },
   "file_extension": ".py",
   "mimetype": "text/x-python",
   "name": "python",
   "nbconvert_exporter": "python",
   "pygments_lexer": "ipython3",
   "version": "3.11.9"
  }
 },
 "nbformat": 4,
 "nbformat_minor": 5
}
